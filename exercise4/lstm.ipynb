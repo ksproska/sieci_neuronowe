{
 "cells": [
  {
   "cell_type": "markdown",
   "source": [
    "https://slundberg.github.io/shap/notebooks/deep_explainer/Keras%20LSTM%20for%20IMDB%20Sentiment%20Classification.html"
   ],
   "metadata": {
    "collapsed": false
   }
  },
  {
   "cell_type": "code",
   "execution_count": 12,
   "outputs": [],
   "source": [
    "from __future__ import print_function\n",
    "\n",
    "from keras.utils import pad_sequences\n",
    "from keras.models import Sequential\n",
    "from keras.layers import Dense, Embedding\n",
    "from keras.layers import LSTM\n",
    "from keras.datasets import imdb\n",
    "import pandas as pd"
   ],
   "metadata": {
    "collapsed": false
   }
  },
  {
   "cell_type": "code",
   "execution_count": 13,
   "outputs": [
    {
     "name": "stdout",
     "output_type": "stream",
     "text": [
      "Pad sequences (samples x time)\n"
     ]
    },
    {
     "data": {
      "text/plain": "((25000, 80), (25000, 80))"
     },
     "execution_count": 13,
     "metadata": {},
     "output_type": "execute_result"
    }
   ],
   "source": [
    "max_features = 20000\n",
    "max_len = 80\n",
    "batch_size = 32\n",
    "\n",
    "(x_train, y_train), (x_test, y_test) = imdb.load_data(num_words=max_features)\n",
    "\n",
    "x_train = pad_sequences(x_train, maxlen=max_len)\n",
    "x_test = pad_sequences(x_test, maxlen=max_len)\n",
    "x_train.shape, x_test.shape"
   ],
   "metadata": {
    "collapsed": false
   }
  },
  {
   "cell_type": "code",
   "execution_count": 14,
   "outputs": [],
   "source": [
    "model_layers = [\n",
    "    Embedding(max_features, 128),\n",
    "    LSTM(128, dropout=0.2, recurrent_dropout=0.2),\n",
    "    Dense(1, activation='sigmoid'),\n",
    "]\n",
    "model = Sequential(model_layers)\n",
    "metrics = [\"accuracy\"]\n",
    "model.compile(loss='binary_crossentropy', optimizer='adam', metrics=metrics)"
   ],
   "metadata": {
    "collapsed": false
   }
  },
  {
   "cell_type": "code",
   "execution_count": 15,
   "outputs": [
    {
     "name": "stdout",
     "output_type": "stream",
     "text": [
      "Epoch 1/5\n",
      "782/782 [==============================] - 86s 108ms/step - loss: 0.4271 - accuracy: 0.8020 - val_loss: 0.3669 - val_accuracy: 0.8378\n",
      "Epoch 2/5\n",
      "782/782 [==============================] - 83s 106ms/step - loss: 0.2557 - accuracy: 0.8984 - val_loss: 0.3803 - val_accuracy: 0.8292\n",
      "Epoch 3/5\n",
      "782/782 [==============================] - 79s 101ms/step - loss: 0.1671 - accuracy: 0.9362 - val_loss: 0.4719 - val_accuracy: 0.8230\n",
      "Epoch 4/5\n",
      "782/782 [==============================] - 75s 96ms/step - loss: 0.1084 - accuracy: 0.9603 - val_loss: 0.5355 - val_accuracy: 0.8221\n",
      "Epoch 5/5\n",
      "782/782 [==============================] - 75s 96ms/step - loss: 0.0769 - accuracy: 0.9740 - val_loss: 0.6143 - val_accuracy: 0.8192\n"
     ]
    }
   ],
   "source": [
    "history = model.fit(x_train, y_train, batch_size=batch_size, epochs=5, validation_data=(x_test, y_test))"
   ],
   "metadata": {
    "collapsed": false
   }
  },
  {
   "cell_type": "code",
   "execution_count": 16,
   "outputs": [
    {
     "data": {
      "text/plain": "   accuracy\n0   0.80196\n1   0.89840\n2   0.93616\n3   0.96028\n4   0.97396",
      "text/html": "<div>\n<style scoped>\n    .dataframe tbody tr th:only-of-type {\n        vertical-align: middle;\n    }\n\n    .dataframe tbody tr th {\n        vertical-align: top;\n    }\n\n    .dataframe thead th {\n        text-align: right;\n    }\n</style>\n<table border=\"1\" class=\"dataframe\">\n  <thead>\n    <tr style=\"text-align: right;\">\n      <th></th>\n      <th>accuracy</th>\n    </tr>\n  </thead>\n  <tbody>\n    <tr>\n      <th>0</th>\n      <td>0.80196</td>\n    </tr>\n    <tr>\n      <th>1</th>\n      <td>0.89840</td>\n    </tr>\n    <tr>\n      <th>2</th>\n      <td>0.93616</td>\n    </tr>\n    <tr>\n      <th>3</th>\n      <td>0.96028</td>\n    </tr>\n    <tr>\n      <th>4</th>\n      <td>0.97396</td>\n    </tr>\n  </tbody>\n</table>\n</div>"
     },
     "execution_count": 16,
     "metadata": {},
     "output_type": "execute_result"
    }
   ],
   "source": [
    "pd.DataFrame({\"accuracy\": history.history[\"accuracy\"]})"
   ],
   "metadata": {
    "collapsed": false
   }
  }
 ],
 "metadata": {
  "kernelspec": {
   "display_name": "Python 3",
   "language": "python",
   "name": "python3"
  },
  "language_info": {
   "codemirror_mode": {
    "name": "ipython",
    "version": 2
   },
   "file_extension": ".py",
   "mimetype": "text/x-python",
   "name": "python",
   "nbconvert_exporter": "python",
   "pygments_lexer": "ipython2",
   "version": "2.7.6"
  }
 },
 "nbformat": 4,
 "nbformat_minor": 0
}
