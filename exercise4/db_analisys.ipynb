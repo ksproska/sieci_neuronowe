{
 "cells": [
  {
   "cell_type": "code",
   "execution_count": 1,
   "metadata": {
    "collapsed": true
   },
   "outputs": [
    {
     "name": "stderr",
     "output_type": "stream",
     "text": [
      "2022-11-24 08:23:37.700441: I tensorflow/core/platform/cpu_feature_guard.cc:193] This TensorFlow binary is optimized with oneAPI Deep Neural Network Library (oneDNN) to use the following CPU instructions in performance-critical operations:  AVX2 FMA\n",
      "To enable them in other operations, rebuild TensorFlow with the appropriate compiler flags.\n",
      "2022-11-24 08:23:37.864679: W tensorflow/stream_executor/platform/default/dso_loader.cc:64] Could not load dynamic library 'libcudart.so.11.0'; dlerror: libcudart.so.11.0: cannot open shared object file: No such file or directory\n",
      "2022-11-24 08:23:37.864696: I tensorflow/stream_executor/cuda/cudart_stub.cc:29] Ignore above cudart dlerror if you do not have a GPU set up on your machine.\n",
      "2022-11-24 08:23:37.888725: E tensorflow/stream_executor/cuda/cuda_blas.cc:2981] Unable to register cuBLAS factory: Attempting to register factory for plugin cuBLAS when one has already been registered\n",
      "2022-11-24 08:23:38.363678: W tensorflow/stream_executor/platform/default/dso_loader.cc:64] Could not load dynamic library 'libnvinfer.so.7'; dlerror: libnvinfer.so.7: cannot open shared object file: No such file or directory\n",
      "2022-11-24 08:23:38.363725: W tensorflow/stream_executor/platform/default/dso_loader.cc:64] Could not load dynamic library 'libnvinfer_plugin.so.7'; dlerror: libnvinfer_plugin.so.7: cannot open shared object file: No such file or directory\n",
      "2022-11-24 08:23:38.363729: W tensorflow/compiler/tf2tensorrt/utils/py_utils.cc:38] TF-TRT Warning: Cannot dlopen some TensorRT libraries. If you would like to use Nvidia GPU with TensorRT, please make sure the missing libraries mentioned above are installed properly.\n"
     ]
    }
   ],
   "source": [
    "import pandas as pd\n",
    "from utils import get_sentence, load_dataset"
   ]
  },
  {
   "cell_type": "code",
   "execution_count": 2,
   "outputs": [
    {
     "data": {
      "text/plain": "((25000,), (25000,), (25000,), (25000,))"
     },
     "execution_count": 2,
     "metadata": {},
     "output_type": "execute_result"
    }
   ],
   "source": [
    "(x_train, y_train), (x_test, y_test) = load_dataset()\n",
    "x_train.shape, y_train.shape, x_test.shape, y_test.shape"
   ],
   "metadata": {
    "collapsed": false
   }
  },
  {
   "cell_type": "code",
   "execution_count": 3,
   "outputs": [
    {
     "data": {
      "text/plain": "                                                       0\n0      [1, 14, 22, 16, 43, 530, 973, 1622, 1385, 65, ...\n1      [1, 194, 1153, 194, 8255, 78, 228, 5, 6, 1463,...\n2      [1, 14, 47, 8, 30, 31, 7, 4, 249, 108, 7, 4, 5...\n3      [1, 4, 18609, 16085, 33, 2804, 4, 2040, 432, 1...\n4      [1, 249, 1323, 7, 61, 113, 10, 10, 13, 1637, 1...\n...                                                  ...\n24995  [1, 14, 9, 6, 2758, 20, 21, 1517, 7, 2078, 5, ...\n24996  [1, 4679, 2784, 299, 6, 1042, 37, 80, 81, 233,...\n24997  [1, 11, 6, 230, 245, 6401, 9, 6, 1225, 446, 86...\n24998  [1, 1446, 7079, 69, 72, 3305, 13, 610, 930, 8,...\n24999  [1, 17, 6, 194, 337, 7, 4, 204, 22, 45, 254, 8...\n\n[25000 rows x 1 columns]",
      "text/html": "<div>\n<style scoped>\n    .dataframe tbody tr th:only-of-type {\n        vertical-align: middle;\n    }\n\n    .dataframe tbody tr th {\n        vertical-align: top;\n    }\n\n    .dataframe thead th {\n        text-align: right;\n    }\n</style>\n<table border=\"1\" class=\"dataframe\">\n  <thead>\n    <tr style=\"text-align: right;\">\n      <th></th>\n      <th>0</th>\n    </tr>\n  </thead>\n  <tbody>\n    <tr>\n      <th>0</th>\n      <td>[1, 14, 22, 16, 43, 530, 973, 1622, 1385, 65, ...</td>\n    </tr>\n    <tr>\n      <th>1</th>\n      <td>[1, 194, 1153, 194, 8255, 78, 228, 5, 6, 1463,...</td>\n    </tr>\n    <tr>\n      <th>2</th>\n      <td>[1, 14, 47, 8, 30, 31, 7, 4, 249, 108, 7, 4, 5...</td>\n    </tr>\n    <tr>\n      <th>3</th>\n      <td>[1, 4, 18609, 16085, 33, 2804, 4, 2040, 432, 1...</td>\n    </tr>\n    <tr>\n      <th>4</th>\n      <td>[1, 249, 1323, 7, 61, 113, 10, 10, 13, 1637, 1...</td>\n    </tr>\n    <tr>\n      <th>...</th>\n      <td>...</td>\n    </tr>\n    <tr>\n      <th>24995</th>\n      <td>[1, 14, 9, 6, 2758, 20, 21, 1517, 7, 2078, 5, ...</td>\n    </tr>\n    <tr>\n      <th>24996</th>\n      <td>[1, 4679, 2784, 299, 6, 1042, 37, 80, 81, 233,...</td>\n    </tr>\n    <tr>\n      <th>24997</th>\n      <td>[1, 11, 6, 230, 245, 6401, 9, 6, 1225, 446, 86...</td>\n    </tr>\n    <tr>\n      <th>24998</th>\n      <td>[1, 1446, 7079, 69, 72, 3305, 13, 610, 930, 8,...</td>\n    </tr>\n    <tr>\n      <th>24999</th>\n      <td>[1, 17, 6, 194, 337, 7, 4, 204, 22, 45, 254, 8...</td>\n    </tr>\n  </tbody>\n</table>\n<p>25000 rows × 1 columns</p>\n</div>"
     },
     "execution_count": 3,
     "metadata": {},
     "output_type": "execute_result"
    }
   ],
   "source": [
    "pd.DataFrame(x_train)"
   ],
   "metadata": {
    "collapsed": false
   }
  },
  {
   "cell_type": "code",
   "execution_count": 4,
   "outputs": [
    {
     "data": {
      "text/plain": "       0\n0      0\n1      1\n2      1\n3      0\n4      1\n...   ..\n24995  1\n24996  1\n24997  0\n24998  0\n24999  0\n\n[25000 rows x 1 columns]",
      "text/html": "<div>\n<style scoped>\n    .dataframe tbody tr th:only-of-type {\n        vertical-align: middle;\n    }\n\n    .dataframe tbody tr th {\n        vertical-align: top;\n    }\n\n    .dataframe thead th {\n        text-align: right;\n    }\n</style>\n<table border=\"1\" class=\"dataframe\">\n  <thead>\n    <tr style=\"text-align: right;\">\n      <th></th>\n      <th>0</th>\n    </tr>\n  </thead>\n  <tbody>\n    <tr>\n      <th>0</th>\n      <td>0</td>\n    </tr>\n    <tr>\n      <th>1</th>\n      <td>1</td>\n    </tr>\n    <tr>\n      <th>2</th>\n      <td>1</td>\n    </tr>\n    <tr>\n      <th>3</th>\n      <td>0</td>\n    </tr>\n    <tr>\n      <th>4</th>\n      <td>1</td>\n    </tr>\n    <tr>\n      <th>...</th>\n      <td>...</td>\n    </tr>\n    <tr>\n      <th>24995</th>\n      <td>1</td>\n    </tr>\n    <tr>\n      <th>24996</th>\n      <td>1</td>\n    </tr>\n    <tr>\n      <th>24997</th>\n      <td>0</td>\n    </tr>\n    <tr>\n      <th>24998</th>\n      <td>0</td>\n    </tr>\n    <tr>\n      <th>24999</th>\n      <td>0</td>\n    </tr>\n  </tbody>\n</table>\n<p>25000 rows × 1 columns</p>\n</div>"
     },
     "execution_count": 4,
     "metadata": {},
     "output_type": "execute_result"
    }
   ],
   "source": [
    "pd.DataFrame(y_test)"
   ],
   "metadata": {
    "collapsed": false
   }
  },
  {
   "cell_type": "code",
   "execution_count": 5,
   "outputs": [
    {
     "data": {
      "text/plain": "\"[START] this film was just brilliant casting location scenery story direction everyone's really suited the part they played and you could just imagine being there robert redford's is an amazing actor and now the same being director norman's father came from the same scottish island as myself so i loved the fact there was a real connection with this film the witty remarks throughout the film were great it was just brilliant so much that i bought the film as soon as it was released for retail and would recommend it to everyone to watch and the fly fishing was amazing really cried at the end it was so sad and you know what they say if you cry at a film it must have been good and this definitely was also congratulations to the two little boy's that played the part's of norman and paul they were just brilliant children are often left out of the praising list i think because the stars that play them all grown up are such a big profile for the whole film but these children are amazing and should be praised for what they have done don't you think the whole story was so lovely because it was true and was someone's life after all that was shared with us all\""
     },
     "execution_count": 5,
     "metadata": {},
     "output_type": "execute_result"
    }
   ],
   "source": [
    "get_sentence(x_train[0])"
   ],
   "metadata": {
    "collapsed": false
   }
  }
 ],
 "metadata": {
  "kernelspec": {
   "display_name": "Python 3",
   "language": "python",
   "name": "python3"
  },
  "language_info": {
   "codemirror_mode": {
    "name": "ipython",
    "version": 2
   },
   "file_extension": ".py",
   "mimetype": "text/x-python",
   "name": "python",
   "nbconvert_exporter": "python",
   "pygments_lexer": "ipython2",
   "version": "2.7.6"
  }
 },
 "nbformat": 4,
 "nbformat_minor": 0
}
