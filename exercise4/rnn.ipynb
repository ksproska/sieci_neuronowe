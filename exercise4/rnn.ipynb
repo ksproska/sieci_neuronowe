{
 "cells": [
  {
   "cell_type": "markdown",
   "source": [
    "# RNN"
   ],
   "metadata": {
    "collapsed": false
   }
  },
  {
   "cell_type": "code",
   "execution_count": 28,
   "outputs": [],
   "source": [
    "import keras.layers\n",
    "from keras.utils import pad_sequences\n",
    "from keras.models import Sequential\n",
    "from keras.layers import Dense, Embedding\n",
    "from keras.layers import LSTM, SimpleRNN\n",
    "from keras.datasets import imdb\n",
    "import pandas as pd\n",
    "from matplotlib import pyplot as plt"
   ],
   "metadata": {
    "collapsed": false
   }
  },
  {
   "cell_type": "code",
   "execution_count": 29,
   "outputs": [
    {
     "data": {
      "text/plain": "((25000, 300), (25000, 300))"
     },
     "execution_count": 29,
     "metadata": {},
     "output_type": "execute_result"
    }
   ],
   "source": [
    "max_features = 20000\n",
    "max_len = 300\n",
    "batch_size = 32\n",
    "\n",
    "(x_train, y_train), (x_test, y_test) = imdb.load_data(num_words=max_features)\n",
    "\n",
    "x_train = pad_sequences(x_train, maxlen=max_len)\n",
    "x_test = pad_sequences(x_test, maxlen=max_len)\n",
    "x_train.shape, x_test.shape"
   ],
   "metadata": {
    "collapsed": false
   }
  },
  {
   "cell_type": "code",
   "execution_count": 30,
   "outputs": [
    {
     "name": "stdout",
     "output_type": "stream",
     "text": [
      "Model: \"sequential_5\"\n",
      "_________________________________________________________________\n",
      " Layer (type)                Output Shape              Param #   \n",
      "=================================================================\n",
      " embedding_5 (Embedding)     (None, None, 16)          320000    \n",
      "                                                                 \n",
      " simple_rnn_5 (SimpleRNN)    (None, 32)                1568      \n",
      "                                                                 \n",
      " dropout_5 (Dropout)         (None, 32)                0         \n",
      "                                                                 \n",
      " dense_5 (Dense)             (None, 1)                 33        \n",
      "                                                                 \n",
      "=================================================================\n",
      "Total params: 321,601\n",
      "Trainable params: 321,601\n",
      "Non-trainable params: 0\n",
      "_________________________________________________________________\n"
     ]
    }
   ],
   "source": [
    "model_layers = [\n",
    "    Embedding(max_features, 16),\n",
    "    SimpleRNN(32, input_shape=(max_features,max_len), activation=\"relu\", kernel_regularizer=\"l2\"),\n",
    "    keras.layers.Dropout(0.1),\n",
    "    Dense(1, activation='sigmoid'),\n",
    "]\n",
    "model = Sequential(model_layers)\n",
    "model.compile(loss='binary_crossentropy', optimizer='adam', metrics=[\"accuracy\"])\n",
    "model.summary()"
   ],
   "metadata": {
    "collapsed": false
   }
  },
  {
   "cell_type": "code",
   "execution_count": null,
   "outputs": [
    {
     "name": "stdout",
     "output_type": "stream",
     "text": [
      "Epoch 1/5\n",
      "782/782 [==============================] - 33s 41ms/step - loss: 0.9397 - accuracy: 0.5709 - val_loss: 0.6624 - val_accuracy: 0.6395\n",
      "Epoch 2/5\n",
      "782/782 [==============================] - 34s 43ms/step - loss: 0.5224 - accuracy: 0.7652 - val_loss: 0.4839 - val_accuracy: 0.7957\n",
      "Epoch 3/5\n",
      "782/782 [==============================] - 34s 44ms/step - loss: 0.4164 - accuracy: 0.8307 - val_loss: 0.4830 - val_accuracy: 0.7920\n",
      "Epoch 4/5\n",
      "782/782 [==============================] - 34s 43ms/step - loss: 0.4065 - accuracy: 0.8374 - val_loss: 0.5344 - val_accuracy: 0.7500\n",
      "Epoch 5/5\n",
      "468/782 [================>.............] - ETA: 11s - loss: 0.3534 - accuracy: 0.8670"
     ]
    }
   ],
   "source": [
    "history = model.fit(x_train, y_train, batch_size=batch_size, epochs=5, validation_data=(x_test, y_test))"
   ],
   "metadata": {
    "collapsed": false,
    "pycharm": {
     "is_executing": true
    }
   }
  },
  {
   "cell_type": "code",
   "execution_count": null,
   "outputs": [],
   "source": [
    "pd.DataFrame(history.history)"
   ],
   "metadata": {
    "collapsed": false,
    "pycharm": {
     "is_executing": true
    }
   }
  },
  {
   "cell_type": "code",
   "execution_count": null,
   "outputs": [],
   "source": [
    "plt.style.use('ggplot')\n",
    "fig, axis = plt.subplots(1, 2)\n",
    "fig.set_size_inches(13, 5)\n",
    "\n",
    "plt.sca(axis[0])\n",
    "# plt.ylim(0, 1)\n",
    "plt.plot(history.history['accuracy'], label=\"train\")\n",
    "plt.plot(history.history['val_accuracy'], label=\"test\")\n",
    "plt.title('model accuracy')\n",
    "plt.ylabel('accuracy')\n",
    "plt.xlabel('epoch')\n",
    "plt.legend(loc='lower right')\n",
    "\n",
    "plt.sca(axis[1])\n",
    "plt.plot(history.history['loss'], label=\"train\")\n",
    "plt.plot(history.history['val_loss'], label=\"test\")\n",
    "plt.title('model loss')\n",
    "plt.ylabel('loss')\n",
    "plt.xlabel('epoch')\n",
    "plt.legend(loc='lower left');"
   ],
   "metadata": {
    "collapsed": false,
    "pycharm": {
     "is_executing": true
    }
   }
  },
  {
   "cell_type": "code",
   "execution_count": null,
   "outputs": [],
   "source": [],
   "metadata": {
    "collapsed": false,
    "pycharm": {
     "is_executing": true
    }
   }
  }
 ],
 "metadata": {
  "kernelspec": {
   "display_name": "Python 3",
   "language": "python",
   "name": "python3"
  },
  "language_info": {
   "codemirror_mode": {
    "name": "ipython",
    "version": 2
   },
   "file_extension": ".py",
   "mimetype": "text/x-python",
   "name": "python",
   "nbconvert_exporter": "python",
   "pygments_lexer": "ipython2",
   "version": "2.7.6"
  }
 },
 "nbformat": 4,
 "nbformat_minor": 0
}
