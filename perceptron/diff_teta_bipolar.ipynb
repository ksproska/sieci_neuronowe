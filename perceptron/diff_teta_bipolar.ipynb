{
 "cells": [
  {
   "cell_type": "markdown",
   "metadata": {
    "collapsed": false
   },
   "source": [
    "## Perceptron - different alfas"
   ]
  },
  {
   "cell_type": "code",
   "execution_count": 1,
   "metadata": {
    "collapsed": false
   },
   "outputs": [],
   "source": [
    "import pandas as pd\n",
    "from data import *\n",
    "plt.style.use('ggplot')"
   ]
  },
  {
   "cell_type": "code",
   "execution_count": 2,
   "metadata": {
    "collapsed": false
   },
   "outputs": [
    {
     "data": {
      "text/plain": "(array([[-0.95324801, -0.95815366,  1.01178507,  0.97277626, -1.00198715],\n        [-1.03304041,  0.96320456, -1.03798473,  1.02552925, -1.02802064]]),\n array([[-1, -1, -1,  1, -1]]))"
     },
     "execution_count": 2,
     "metadata": {},
     "output_type": "execute_result"
    }
   ],
   "source": [
    "repetitions = 200\n",
    "x_all = reproduce_x_times(x_bipolar_no_teta, repetitions)\n",
    "d_all = reproduce_x_times(d_bipolar, repetitions)\n",
    "x_all = x_all + get_random(x_all.shape)\n",
    "x_all[:, :5], d_all[:, :5]"
   ]
  },
  {
   "cell_type": "code",
   "execution_count": 3,
   "metadata": {
    "collapsed": false
   },
   "outputs": [
    {
     "data": {
      "text/plain": "((2, 600), (2, 200), (1, 600), (1, 200))"
     },
     "execution_count": 3,
     "metadata": {},
     "output_type": "execute_result"
    }
   ],
   "source": [
    "test_size = int(x_all.shape[1] * 0.25)\n",
    "train_size = int(x_all.shape[1] - test_size)\n",
    "x_train, x_test = x_all[:, :train_size], x_all[:, train_size:]\n",
    "d_train, d_test = d_all[:, :train_size], d_all[:, train_size:]\n",
    "x_train.shape, x_test.shape, d_train.shape, d_test.shape"
   ]
  },
  {
   "cell_type": "code",
   "execution_count": 4,
   "metadata": {
    "collapsed": false
   },
   "outputs": [],
   "source": [
    "x_range = np.arange(-2, 4)\n",
    "experiments_numb = 1000"
   ]
  },
  {
   "cell_type": "markdown",
   "metadata": {},
   "source": [
    "### Dane experymentów"
   ]
  },
  {
   "cell_type": "code",
   "execution_count": null,
   "metadata": {
    "collapsed": false,
    "pycharm": {
     "is_executing": true
    }
   },
   "outputs": [],
   "source": [
    "perceptrons = []\n",
    "tetas = list(np.linspace(0, 1, num=1000))[1:]\n",
    "for teta in tetas:\n",
    "    estimate_func = lambda v: bipolar(teta, v)\n",
    "    p = Perceptron(x_train, d_train, x_test, d_test, estimate_func, 1.0, (-0.1, 0.1))\n",
    "    for i in range(experiments_numb):\n",
    "        p.count()\n",
    "    perceptrons.append(p)\n",
    "len(perceptrons)"
   ]
  },
  {
   "cell_type": "code",
   "execution_count": null,
   "metadata": {
    "collapsed": false,
    "pycharm": {
     "is_executing": true
    }
   },
   "outputs": [],
   "source": [
    "x, y = tetas, [v.average_epoch_count for v in perceptrons]\n",
    "plt.plot(x, y)\n",
    "plt.title(\"Perceptron - bipolar - different θ values\")\n",
    "plt.xlabel(\"θ\")\n",
    "plt.ylabel(\"average epoch count\")\n",
    "plt.ylim(0, 105)\n",
    "plt.xlim(0, 0.25)\n",
    "pd.DataFrame({\"θ\":x, \"average epoch count\":y})"
   ]
  }
 ],
 "metadata": {
  "kernelspec": {
   "display_name": "Python 3.10.7 64-bit",
   "language": "python",
   "name": "python3"
  },
  "language_info": {
   "codemirror_mode": {
    "name": "ipython",
    "version": 3
   },
   "file_extension": ".py",
   "mimetype": "text/x-python",
   "name": "python",
   "nbconvert_exporter": "python",
   "pygments_lexer": "ipython3",
   "version": "3.10.7"
  },
  "vscode": {
   "interpreter": {
    "hash": "e7370f93d1d0cde622a1f8e1c04877d8463912d04d973331ad4851f04de6915a"
   }
  }
 },
 "nbformat": 4,
 "nbformat_minor": 0
}
