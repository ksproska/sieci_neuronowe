{
 "cells": [
  {
   "cell_type": "markdown",
   "metadata": {
    "collapsed": false
   },
   "source": [
    "## Perceptron - unipolar vs bipolar"
   ]
  },
  {
   "cell_type": "code",
   "execution_count": 1,
   "metadata": {
    "collapsed": false
   },
   "outputs": [],
   "source": [
    "import pandas as pd\n",
    "from data import *\n",
    "import matplotlib.pyplot as plt\n",
    "plt.style.use('ggplot')"
   ]
  },
  {
   "cell_type": "code",
   "execution_count": 2,
   "metadata": {
    "collapsed": false
   },
   "outputs": [],
   "source": [
    "repetitions = 200"
   ]
  },
  {
   "cell_type": "code",
   "execution_count": 3,
   "metadata": {
    "collapsed": false
   },
   "outputs": [
    {
     "data": {
      "text/plain": [
       "(array([[ 1.        ,  1.        ,  1.        ,  1.        ,  1.        ],\n",
       "        [-0.02202355, -0.00248454,  0.96065291,  1.0481102 , -0.01102998],\n",
       "        [ 0.03496166,  1.03396691,  0.01073863,  0.99945934,  0.03586333]]),\n",
       " array([[0, 0, 0, 1, 0]]))"
      ]
     },
     "execution_count": 3,
     "metadata": {},
     "output_type": "execute_result"
    }
   ],
   "source": [
    "estimate_func_unipolar = lambda v: unipolar(0, v)\n",
    "x_all_unipolar = reproduce_x_times(x_unipolar, repetitions)\n",
    "d_all_unipolar = reproduce_x_times(d_unipolar, repetitions)\n",
    "x_all_unipolar = x_all_unipolar + get_random_except_first_row(x_all_unipolar.shape)\n",
    "x_all_unipolar[:, :5], d_all_unipolar[:, :5]"
   ]
  },
  {
   "cell_type": "code",
   "execution_count": 4,
   "metadata": {
    "collapsed": false
   },
   "outputs": [
    {
     "data": {
      "text/plain": [
       "(array([[ 1.        ,  1.        ,  1.        ,  1.        ,  1.        ],\n",
       "        [-0.99133653, -0.98687275,  0.97744715,  1.02991289, -0.98761893],\n",
       "        [-1.01460006,  0.96271123, -0.97651444,  1.01027239, -0.98214987]]),\n",
       " array([[-1, -1, -1,  1, -1]]))"
      ]
     },
     "execution_count": 4,
     "metadata": {},
     "output_type": "execute_result"
    }
   ],
   "source": [
    "estimate_func_bipolar = lambda v: bipolar(0, v)\n",
    "x_all_bipolar = reproduce_x_times(x_bipolar, repetitions)\n",
    "d_all_bipolar = reproduce_x_times(d_bipolar, repetitions)\n",
    "x_all_bipolar = x_all_bipolar + get_random_except_first_row(x_all_bipolar.shape)\n",
    "x_all_bipolar[:, :5], d_all_bipolar[:, :5]"
   ]
  },
  {
   "cell_type": "code",
   "execution_count": 5,
   "metadata": {
    "collapsed": false
   },
   "outputs": [],
   "source": [
    "test_size = int(x_all_unipolar.shape[1] * 0.25)\n",
    "train_size = int(x_all_unipolar.shape[1] - test_size)"
   ]
  },
  {
   "cell_type": "code",
   "execution_count": 6,
   "metadata": {
    "collapsed": false
   },
   "outputs": [
    {
     "data": {
      "text/plain": [
       "((3, 600), (3, 200), (1, 600), (1, 200))"
      ]
     },
     "execution_count": 6,
     "metadata": {},
     "output_type": "execute_result"
    }
   ],
   "source": [
    "x_train_unipolar, x_test_unipolar = x_all_unipolar[:, :train_size], x_all_unipolar[:, train_size:]\n",
    "d_train_unipolar, d_test_unipolar = d_all_unipolar[:, :train_size], d_all_unipolar[:, train_size:]\n",
    "x_train_unipolar.shape, x_test_unipolar.shape, d_train_unipolar.shape, d_test_unipolar.shape"
   ]
  },
  {
   "cell_type": "code",
   "execution_count": 7,
   "metadata": {
    "collapsed": false
   },
   "outputs": [
    {
     "data": {
      "text/plain": [
       "((3, 600), (3, 200), (1, 600), (1, 200))"
      ]
     },
     "execution_count": 7,
     "metadata": {},
     "output_type": "execute_result"
    }
   ],
   "source": [
    "x_train_bipolar, x_test_bipolar = x_all_bipolar[:, :train_size], x_all_bipolar[:, train_size:]\n",
    "d_train_bipolar, d_test_bipolar = d_all_bipolar[:, :train_size], d_all_bipolar[:, train_size:]\n",
    "x_train_bipolar.shape, x_test_bipolar.shape, d_train_bipolar.shape, d_test_bipolar.shape"
   ]
  },
  {
   "cell_type": "code",
   "execution_count": 8,
   "metadata": {
    "collapsed": false
   },
   "outputs": [],
   "source": [
    "x_range = np.arange(-2, 4)\n",
    "experiments_numb = 1000"
   ]
  },
  {
   "cell_type": "code",
   "execution_count": 9,
   "metadata": {
    "collapsed": false
   },
   "outputs": [
    {
     "data": {
      "text/plain": [
       "(99, 99)"
      ]
     },
     "execution_count": 9,
     "metadata": {},
     "output_type": "execute_result"
    }
   ],
   "source": [
    "perceptrons_unipolar = []\n",
    "perceptrons_bipolar = []\n",
    "for w_range in list(np.linspace(0, 1, num=100))[1:]:\n",
    "    p_unipolar = Perceptron(x_train_unipolar, d_train_unipolar, x_test_unipolar, d_test_unipolar, estimate_func_unipolar, 0.1, (-w_range, w_range))\n",
    "    p_bipolar = Perceptron(x_train_bipolar, d_train_bipolar, x_test_bipolar, d_test_bipolar, estimate_func_bipolar, 0.1, (-w_range, w_range))\n",
    "    for i in range(experiments_numb):\n",
    "        p_unipolar.count()\n",
    "        p_bipolar.count()\n",
    "    perceptrons_unipolar.append(p_unipolar)\n",
    "    perceptrons_bipolar.append(p_bipolar)\n",
    "len(perceptrons_unipolar), len(perceptrons_bipolar)"
   ]
  },
  {
   "cell_type": "markdown",
   "metadata": {},
   "source": [
    "### Różne przedziały wag\n",
    "Stałe:\n",
    "- alfa = 0.01\n",
    "Zmienne:\n",
    "- przedziały wag (między 0.01 a 1.0)"
   ]
  },
  {
   "cell_type": "code",
   "execution_count": 10,
   "metadata": {
    "collapsed": false
   },
   "outputs": [
    {
     "data": {
      "text/html": [
       "<div>\n",
       "<style scoped>\n",
       "    .dataframe tbody tr th:only-of-type {\n",
       "        vertical-align: middle;\n",
       "    }\n",
       "\n",
       "    .dataframe tbody tr th {\n",
       "        vertical-align: top;\n",
       "    }\n",
       "\n",
       "    .dataframe thead th {\n",
       "        text-align: right;\n",
       "    }\n",
       "</style>\n",
       "<table border=\"1\" class=\"dataframe\">\n",
       "  <thead>\n",
       "    <tr style=\"text-align: right;\">\n",
       "      <th></th>\n",
       "      <th>weights range (-v, v)</th>\n",
       "      <th>epoch count unipolar</th>\n",
       "      <th>epoch count bipolar</th>\n",
       "    </tr>\n",
       "  </thead>\n",
       "  <tbody>\n",
       "    <tr>\n",
       "      <th>0</th>\n",
       "      <td>0.010101</td>\n",
       "      <td>7.353</td>\n",
       "      <td>2.857</td>\n",
       "    </tr>\n",
       "    <tr>\n",
       "      <th>1</th>\n",
       "      <td>0.020202</td>\n",
       "      <td>7.481</td>\n",
       "      <td>2.895</td>\n",
       "    </tr>\n",
       "    <tr>\n",
       "      <th>2</th>\n",
       "      <td>0.030303</td>\n",
       "      <td>7.586</td>\n",
       "      <td>2.827</td>\n",
       "    </tr>\n",
       "    <tr>\n",
       "      <th>3</th>\n",
       "      <td>0.040404</td>\n",
       "      <td>7.487</td>\n",
       "      <td>2.877</td>\n",
       "    </tr>\n",
       "    <tr>\n",
       "      <th>4</th>\n",
       "      <td>0.050505</td>\n",
       "      <td>7.541</td>\n",
       "      <td>2.856</td>\n",
       "    </tr>\n",
       "    <tr>\n",
       "      <th>...</th>\n",
       "      <td>...</td>\n",
       "      <td>...</td>\n",
       "      <td>...</td>\n",
       "    </tr>\n",
       "    <tr>\n",
       "      <th>94</th>\n",
       "      <td>0.959596</td>\n",
       "      <td>6.770</td>\n",
       "      <td>2.835</td>\n",
       "    </tr>\n",
       "    <tr>\n",
       "      <th>95</th>\n",
       "      <td>0.969697</td>\n",
       "      <td>6.838</td>\n",
       "      <td>2.857</td>\n",
       "    </tr>\n",
       "    <tr>\n",
       "      <th>96</th>\n",
       "      <td>0.979798</td>\n",
       "      <td>6.722</td>\n",
       "      <td>2.848</td>\n",
       "    </tr>\n",
       "    <tr>\n",
       "      <th>97</th>\n",
       "      <td>0.989899</td>\n",
       "      <td>6.796</td>\n",
       "      <td>2.859</td>\n",
       "    </tr>\n",
       "    <tr>\n",
       "      <th>98</th>\n",
       "      <td>1.000000</td>\n",
       "      <td>6.773</td>\n",
       "      <td>2.861</td>\n",
       "    </tr>\n",
       "  </tbody>\n",
       "</table>\n",
       "<p>99 rows × 3 columns</p>\n",
       "</div>"
      ],
      "text/plain": [
       "    weights range (-v, v)  epoch count unipolar  epoch count bipolar\n",
       "0                0.010101                 7.353                2.857\n",
       "1                0.020202                 7.481                2.895\n",
       "2                0.030303                 7.586                2.827\n",
       "3                0.040404                 7.487                2.877\n",
       "4                0.050505                 7.541                2.856\n",
       "..                    ...                   ...                  ...\n",
       "94               0.959596                 6.770                2.835\n",
       "95               0.969697                 6.838                2.857\n",
       "96               0.979798                 6.722                2.848\n",
       "97               0.989899                 6.796                2.859\n",
       "98               1.000000                 6.773                2.861\n",
       "\n",
       "[99 rows x 3 columns]"
      ]
     },
     "execution_count": 10,
     "metadata": {},
     "output_type": "execute_result"
    },
    {
     "data": {
      "image/png": "[encoded data removed]",
      "text/plain": [
       "<Figure size 640x480 with 1 Axes>"
      ]
     },
     "metadata": {},
     "output_type": "display_data"
    }
   ],
   "source": [
    "x = [x.wrange[1] for x in perceptrons_unipolar]\n",
    "y_u = [x.average_epoch_count for x in perceptrons_unipolar]\n",
    "y_b = [x.average_epoch_count for x in perceptrons_bipolar]\n",
    "plt.title(\"Perceptron - different weights ranges for unipolar vs bipolar\")\n",
    "plt.plot(x, y_u, label=\"unipolar\")\n",
    "plt.plot(x, y_b, label=\"bipolar\")\n",
    "plt.legend()\n",
    "plt.xlabel(\"weights range (-v, v)\")\n",
    "plt.ylabel(\"epoch count\")\n",
    "# plt.ylim(0, 9)\n",
    "pd.DataFrame({\"weights range (-v, v)\":x, \"epoch count unipolar\":y_u, \"epoch count bipolar\":y_b})"
   ]
  },
  {
   "cell_type": "markdown",
   "metadata": {},
   "source": [
    "Dla powyższego wykresu można zauważyć, że "
   ]
  },
  {
   "cell_type": "code",
   "execution_count": 11,
   "metadata": {
    "collapsed": false
   },
   "outputs": [
    {
     "data": {
      "text/plain": [
       "(99, 99)"
      ]
     },
     "execution_count": 11,
     "metadata": {},
     "output_type": "execute_result"
    }
   ],
   "source": [
    "perceptrons_unipolar = []\n",
    "perceptrons_bipolar = []\n",
    "for alfa in list(np.linspace(0, 1, num=100))[1:]:\n",
    "    p_unipolar = Perceptron(x_train_unipolar, d_train_unipolar, x_test_unipolar, d_test_unipolar, estimate_func_unipolar, alfa, (-0.1, 0.1))\n",
    "    p_bipolar = Perceptron(x_train_bipolar, d_train_bipolar, x_test_bipolar, d_test_bipolar, estimate_func_bipolar, alfa, (-0.1, 0.1))\n",
    "    for i in range(experiments_numb):\n",
    "        p_unipolar.count()\n",
    "        p_bipolar.count()\n",
    "    perceptrons_unipolar.append(p_unipolar)\n",
    "    perceptrons_bipolar.append(p_bipolar)\n",
    "len(perceptrons_unipolar), len(perceptrons_bipolar)"
   ]
  },
  {
   "cell_type": "code",
   "execution_count": 12,
   "metadata": {
    "collapsed": false
   },
   "outputs": [
    {
     "data": {
      "text/html": [
       "<div>\n",
       "<style scoped>\n",
       "    .dataframe tbody tr th:only-of-type {\n",
       "        vertical-align: middle;\n",
       "    }\n",
       "\n",
       "    .dataframe tbody tr th {\n",
       "        vertical-align: top;\n",
       "    }\n",
       "\n",
       "    .dataframe thead th {\n",
       "        text-align: right;\n",
       "    }\n",
       "</style>\n",
       "<table border=\"1\" class=\"dataframe\">\n",
       "  <thead>\n",
       "    <tr style=\"text-align: right;\">\n",
       "      <th></th>\n",
       "      <th>alfa</th>\n",
       "      <th>epoch count unipolar</th>\n",
       "      <th>epoch count bipolar</th>\n",
       "    </tr>\n",
       "  </thead>\n",
       "  <tbody>\n",
       "    <tr>\n",
       "      <th>0</th>\n",
       "      <td>0.010101</td>\n",
       "      <td>6.698</td>\n",
       "      <td>2.882</td>\n",
       "    </tr>\n",
       "    <tr>\n",
       "      <th>1</th>\n",
       "      <td>0.020202</td>\n",
       "      <td>7.268</td>\n",
       "      <td>2.852</td>\n",
       "    </tr>\n",
       "    <tr>\n",
       "      <th>2</th>\n",
       "      <td>0.030303</td>\n",
       "      <td>7.535</td>\n",
       "      <td>2.869</td>\n",
       "    </tr>\n",
       "    <tr>\n",
       "      <th>3</th>\n",
       "      <td>0.040404</td>\n",
       "      <td>7.907</td>\n",
       "      <td>2.861</td>\n",
       "    </tr>\n",
       "    <tr>\n",
       "      <th>4</th>\n",
       "      <td>0.050505</td>\n",
       "      <td>7.917</td>\n",
       "      <td>2.839</td>\n",
       "    </tr>\n",
       "    <tr>\n",
       "      <th>...</th>\n",
       "      <td>...</td>\n",
       "      <td>...</td>\n",
       "      <td>...</td>\n",
       "    </tr>\n",
       "    <tr>\n",
       "      <th>94</th>\n",
       "      <td>0.959596</td>\n",
       "      <td>7.394</td>\n",
       "      <td>2.837</td>\n",
       "    </tr>\n",
       "    <tr>\n",
       "      <th>95</th>\n",
       "      <td>0.969697</td>\n",
       "      <td>7.422</td>\n",
       "      <td>2.866</td>\n",
       "    </tr>\n",
       "    <tr>\n",
       "      <th>96</th>\n",
       "      <td>0.979798</td>\n",
       "      <td>7.487</td>\n",
       "      <td>2.860</td>\n",
       "    </tr>\n",
       "    <tr>\n",
       "      <th>97</th>\n",
       "      <td>0.989899</td>\n",
       "      <td>7.451</td>\n",
       "      <td>2.873</td>\n",
       "    </tr>\n",
       "    <tr>\n",
       "      <th>98</th>\n",
       "      <td>1.000000</td>\n",
       "      <td>7.472</td>\n",
       "      <td>2.864</td>\n",
       "    </tr>\n",
       "  </tbody>\n",
       "</table>\n",
       "<p>99 rows × 3 columns</p>\n",
       "</div>"
      ],
      "text/plain": [
       "        alfa  epoch count unipolar  epoch count bipolar\n",
       "0   0.010101                 6.698                2.882\n",
       "1   0.020202                 7.268                2.852\n",
       "2   0.030303                 7.535                2.869\n",
       "3   0.040404                 7.907                2.861\n",
       "4   0.050505                 7.917                2.839\n",
       "..       ...                   ...                  ...\n",
       "94  0.959596                 7.394                2.837\n",
       "95  0.969697                 7.422                2.866\n",
       "96  0.979798                 7.487                2.860\n",
       "97  0.989899                 7.451                2.873\n",
       "98  1.000000                 7.472                2.864\n",
       "\n",
       "[99 rows x 3 columns]"
      ]
     },
     "execution_count": 12,
     "metadata": {},
     "output_type": "execute_result"
    },
    {
     "data": {
      "image/png": "[encoded data removed]",
      "text/plain": [
       "<Figure size 640x480 with 1 Axes>"
      ]
     },
     "metadata": {},
     "output_type": "display_data"
    }
   ],
   "source": [
    "x = [x.alfa for x in perceptrons_unipolar]\n",
    "y_u = [x.average_epoch_count for x in perceptrons_unipolar]\n",
    "y_b = [x.average_epoch_count for x in perceptrons_bipolar]\n",
    "plt.title(\"Perceptron - different alfa values for unipolar vs bipolar\")\n",
    "plt.plot(x, y_u, label=\"unipolar\")\n",
    "plt.plot(x, y_b, label=\"bipolar\")\n",
    "plt.xlabel(\"alfa\")\n",
    "plt.ylabel(\"epoch count\")\n",
    "# plt.ylim(0, 9)\n",
    "plt.legend()\n",
    "pd.DataFrame({\"alfa\": x,\n",
    "              \"epoch count unipolar\": y_u,\n",
    "              \"epoch count bipolar\": y_b})"
   ]
  }
 ],
 "metadata": {
  "kernelspec": {
   "display_name": "Python 3.10.7 64-bit",
   "language": "python",
   "name": "python3"
  },
  "language_info": {
   "codemirror_mode": {
    "name": "ipython",
    "version": 3
   },
   "file_extension": ".py",
   "mimetype": "text/x-python",
   "name": "python",
   "nbconvert_exporter": "python",
   "pygments_lexer": "ipython3",
   "version": "3.10.7"
  },
  "vscode": {
   "interpreter": {
    "hash": "e7370f93d1d0cde622a1f8e1c04877d8463912d04d973331ad4851f04de6915a"
   }
  }
 },
 "nbformat": 4,
 "nbformat_minor": 0
}
