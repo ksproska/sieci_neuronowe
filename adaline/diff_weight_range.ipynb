{
 "cells": [
  {
   "cell_type": "markdown",
   "source": [
    "## Perceptron"
   ],
   "metadata": {
    "collapsed": false
   }
  },
  {
   "cell_type": "code",
   "execution_count": 15,
   "outputs": [],
   "source": [
    "import pandas as pd\n",
    "from data import *\n",
    "plt.style.use('ggplot')"
   ],
   "metadata": {
    "collapsed": false
   }
  },
  {
   "cell_type": "code",
   "execution_count": 16,
   "outputs": [
    {
     "data": {
      "text/plain": "(array([[ 1.        ,  1.        ,  1.        ,  1.        ,  1.        ],\n        [-0.04563026, -0.02720513,  1.02329488,  0.98369487,  0.02025383],\n        [-0.04941585,  0.99981417,  0.01433639,  0.95546014,  0.0130482 ]]),\n array([[-1, -1, -1,  1, -1]]))"
     },
     "execution_count": 16,
     "metadata": {},
     "output_type": "execute_result"
    }
   ],
   "source": [
    "repetitions = 200\n",
    "x_all = reproduce_x_times(x_unipolar, repetitions)\n",
    "d_all = reproduce_x_times(d_bipolar, repetitions)\n",
    "x_all = x_all + get_random_except_first_row(x_all.shape)\n",
    "x_all[:, :5], d_all[:, :5]"
   ],
   "metadata": {
    "collapsed": false
   }
  },
  {
   "cell_type": "code",
   "execution_count": 17,
   "outputs": [
    {
     "data": {
      "text/plain": "((3, 600), (3, 200), (1, 600), (1, 200))"
     },
     "execution_count": 17,
     "metadata": {},
     "output_type": "execute_result"
    }
   ],
   "source": [
    "test_size = int(x_all.shape[1] * 0.25)\n",
    "train_size = int(x_all.shape[1] - test_size)\n",
    "x_train, x_test = x_all[:, :train_size], x_all[:, train_size:]\n",
    "d_train, d_test = d_all[:, :train_size], d_all[:, train_size:]\n",
    "x_train.shape, x_test.shape, d_train.shape, d_test.shape"
   ],
   "metadata": {
    "collapsed": false
   }
  },
  {
   "cell_type": "code",
   "execution_count": 18,
   "outputs": [],
   "source": [
    "x_range = np.arange(-2, 4)\n",
    "experiments_numb = 100"
   ],
   "metadata": {
    "collapsed": false
   }
  },
  {
   "cell_type": "code",
   "execution_count": 19,
   "outputs": [
    {
     "ename": "TypeError",
     "evalue": "__init__() missing 1 required positional argument: 'wrange'",
     "output_type": "error",
     "traceback": [
      "\u001B[1;31m---------------------------------------------------------------------------\u001B[0m",
      "\u001B[1;31mTypeError\u001B[0m                                 Traceback (most recent call last)",
      "Cell \u001B[1;32mIn [19], line 3\u001B[0m\n\u001B[0;32m      1\u001B[0m perceptrons \u001B[38;5;241m=\u001B[39m []\n\u001B[0;32m      2\u001B[0m \u001B[38;5;28;01mfor\u001B[39;00m w_range \u001B[38;5;129;01min\u001B[39;00m \u001B[38;5;28mlist\u001B[39m(np\u001B[38;5;241m.\u001B[39mlinspace(\u001B[38;5;241m0\u001B[39m, \u001B[38;5;241m1\u001B[39m, num\u001B[38;5;241m=\u001B[39m\u001B[38;5;241m200\u001B[39m))[\u001B[38;5;241m1\u001B[39m:]:\n\u001B[1;32m----> 3\u001B[0m     p \u001B[38;5;241m=\u001B[39m \u001B[43mAdaline\u001B[49m\u001B[43m(\u001B[49m\u001B[43mx_train\u001B[49m\u001B[43m,\u001B[49m\u001B[43m \u001B[49m\u001B[43md_train\u001B[49m\u001B[43m,\u001B[49m\u001B[43m \u001B[49m\u001B[43mx_test\u001B[49m\u001B[43m,\u001B[49m\u001B[43m \u001B[49m\u001B[43md_test\u001B[49m\u001B[43m,\u001B[49m\u001B[43m \u001B[49m\u001B[38;5;241;43m0.0001\u001B[39;49m\u001B[43m,\u001B[49m\u001B[43m \u001B[49m\u001B[38;5;241;43m0.4\u001B[39;49m\u001B[43m,\u001B[49m\u001B[43m \u001B[49m\u001B[43m(\u001B[49m\u001B[38;5;241;43m-\u001B[39;49m\u001B[43mw_range\u001B[49m\u001B[43m,\u001B[49m\u001B[43m \u001B[49m\u001B[43mw_range\u001B[49m\u001B[43m)\u001B[49m\u001B[43m)\u001B[49m\n\u001B[0;32m      4\u001B[0m     \u001B[38;5;28;01mfor\u001B[39;00m i \u001B[38;5;129;01min\u001B[39;00m \u001B[38;5;28mrange\u001B[39m(experiments_numb):\n\u001B[0;32m      5\u001B[0m         p\u001B[38;5;241m.\u001B[39mcount()\n",
      "\u001B[1;31mTypeError\u001B[0m: __init__() missing 1 required positional argument: 'wrange'"
     ]
    }
   ],
   "source": [
    "perceptrons = []\n",
    "for w_range in list(np.linspace(0, 1, num=200))[1:]:\n",
    "    p = Adaline(x_train, d_train, x_test, d_test, 0.0001, 0.4, (-w_range, w_range))\n",
    "    for i in range(experiments_numb):\n",
    "        p.count()\n",
    "    perceptrons.append(p)\n",
    "len(perceptrons)"
   ],
   "metadata": {
    "collapsed": false
   }
  },
  {
   "cell_type": "code",
   "execution_count": null,
   "outputs": [],
   "source": [
    "plt.plot([x.wrange[1] for x in perceptrons], [x.average_epoch_count for x in perceptrons])\n",
    "plt.xlabel(\"weights range (-v, v)\")\n",
    "plt.ylabel(\"epoch count\")\n",
    "pd.DataFrame({\"weights range (-v, v)\":[x.wrange[1] for x in perceptrons], \"epoch count\":[x.average_epoch_count for x in perceptrons]})"
   ],
   "metadata": {
    "collapsed": false
   }
  }
 ],
 "metadata": {
  "kernelspec": {
   "display_name": "Python 3",
   "language": "python",
   "name": "python3"
  },
  "language_info": {
   "codemirror_mode": {
    "name": "ipython",
    "version": 2
   },
   "file_extension": ".py",
   "mimetype": "text/x-python",
   "name": "python",
   "nbconvert_exporter": "python",
   "pygments_lexer": "ipython2",
   "version": "2.7.6"
  }
 },
 "nbformat": 4,
 "nbformat_minor": 0
}
