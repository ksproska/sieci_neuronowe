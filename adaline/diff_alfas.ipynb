{
 "cells": [
  {
   "cell_type": "markdown",
   "source": [
    "## Adaline"
   ],
   "metadata": {
    "collapsed": false
   }
  },
  {
   "cell_type": "code",
   "execution_count": 1,
   "outputs": [],
   "source": [
    "import pandas as pd\n",
    "from data import *\n",
    "plt.style.use('ggplot')"
   ],
   "metadata": {
    "collapsed": false
   }
  },
  {
   "cell_type": "code",
   "execution_count": 2,
   "outputs": [
    {
     "data": {
      "text/plain": "(array([[1.        , 1.        , 1.        , 1.        , 1.        ],\n        [0.01442453, 0.03538922, 1.0384591 , 1.04006778, 0.00600291],\n        [0.04866262, 1.01844326, 0.01596361, 0.99020906, 0.01084325]]),\n array([[-1, -1, -1,  1, -1]]))"
     },
     "execution_count": 2,
     "metadata": {},
     "output_type": "execute_result"
    }
   ],
   "source": [
    "repetitions = 200\n",
    "x_all = reproduce_x_times(x_unipolar, repetitions)\n",
    "d_all = reproduce_x_times(d_bipolar, repetitions)\n",
    "x_all = x_all + get_random_except_first_row(x_all.shape)\n",
    "x_all[:, :5], d_all[:, :5]"
   ],
   "metadata": {
    "collapsed": false
   }
  },
  {
   "cell_type": "code",
   "execution_count": 3,
   "outputs": [
    {
     "data": {
      "text/plain": "((3, 600), (3, 200), (1, 600), (1, 200))"
     },
     "execution_count": 3,
     "metadata": {},
     "output_type": "execute_result"
    }
   ],
   "source": [
    "test_size = int(x_all.shape[1] * 0.25)\n",
    "train_size = int(x_all.shape[1] - test_size)\n",
    "x_train, x_test = x_all[:, :train_size], x_all[:, train_size:]\n",
    "d_train, d_test = d_all[:, :train_size], d_all[:, train_size:]\n",
    "x_train.shape, x_test.shape, d_train.shape, d_test.shape"
   ],
   "metadata": {
    "collapsed": false
   }
  },
  {
   "cell_type": "code",
   "execution_count": 4,
   "outputs": [],
   "source": [
    "x_range = np.arange(-2, 4)\n",
    "experiments_numb = 100"
   ],
   "metadata": {
    "collapsed": false
   }
  },
  {
   "cell_type": "code",
   "execution_count": 5,
   "outputs": [
    {
     "data": {
      "text/plain": "99"
     },
     "execution_count": 5,
     "metadata": {},
     "output_type": "execute_result"
    }
   ],
   "source": [
    "perceptrons = []\n",
    "for alfa in list(np.linspace(0, 0.0025, num=100))[1:]:\n",
    "    p = Adaline(x_train, d_train, x_test, d_test, alfa, 0.4, (-0.1, 0.1))\n",
    "    for i in range(experiments_numb):\n",
    "        p.count()\n",
    "    perceptrons.append(p)\n",
    "len(perceptrons)"
   ],
   "metadata": {
    "collapsed": false
   }
  },
  {
   "cell_type": "code",
   "execution_count": 6,
   "outputs": [
    {
     "data": {
      "text/plain": "       alfas  epoch count\n0   0.000025       100.00\n1   0.000051       100.00\n2   0.000076        99.63\n3   0.000101        78.47\n4   0.000126        63.18\n..       ...          ...\n94  0.002399       100.00\n95  0.002424       100.00\n96  0.002449       100.00\n97  0.002475       100.00\n98  0.002500       100.00\n\n[99 rows x 2 columns]",
      "text/html": "<div>\n<style scoped>\n    .dataframe tbody tr th:only-of-type {\n        vertical-align: middle;\n    }\n\n    .dataframe tbody tr th {\n        vertical-align: top;\n    }\n\n    .dataframe thead th {\n        text-align: right;\n    }\n</style>\n<table border=\"1\" class=\"dataframe\">\n  <thead>\n    <tr style=\"text-align: right;\">\n      <th></th>\n      <th>alfas</th>\n      <th>epoch count</th>\n    </tr>\n  </thead>\n  <tbody>\n    <tr>\n      <th>0</th>\n      <td>0.000025</td>\n      <td>100.00</td>\n    </tr>\n    <tr>\n      <th>1</th>\n      <td>0.000051</td>\n      <td>100.00</td>\n    </tr>\n    <tr>\n      <th>2</th>\n      <td>0.000076</td>\n      <td>99.63</td>\n    </tr>\n    <tr>\n      <th>3</th>\n      <td>0.000101</td>\n      <td>78.47</td>\n    </tr>\n    <tr>\n      <th>4</th>\n      <td>0.000126</td>\n      <td>63.18</td>\n    </tr>\n    <tr>\n      <th>...</th>\n      <td>...</td>\n      <td>...</td>\n    </tr>\n    <tr>\n      <th>94</th>\n      <td>0.002399</td>\n      <td>100.00</td>\n    </tr>\n    <tr>\n      <th>95</th>\n      <td>0.002424</td>\n      <td>100.00</td>\n    </tr>\n    <tr>\n      <th>96</th>\n      <td>0.002449</td>\n      <td>100.00</td>\n    </tr>\n    <tr>\n      <th>97</th>\n      <td>0.002475</td>\n      <td>100.00</td>\n    </tr>\n    <tr>\n      <th>98</th>\n      <td>0.002500</td>\n      <td>100.00</td>\n    </tr>\n  </tbody>\n</table>\n<p>99 rows × 2 columns</p>\n</div>"
     },
     "execution_count": 6,
     "metadata": {},
     "output_type": "execute_result"
    },
    {
     "data": {
      "text/plain": "<Figure size 640x480 with 1 Axes>",
      "image/png": "[encoded data removed]"
     },
     "metadata": {},
     "output_type": "display_data"
    }
   ],
   "source": [
    "plt.plot([x.alfa for x in perceptrons], [x.average_epoch_count for x in perceptrons])\n",
    "plt.xlabel(\"alfa\")\n",
    "plt.ylabel(\"epoch count\")\n",
    "pd.DataFrame({\"alfas\":[x.alfa for x in perceptrons], \"epoch count\":[x.average_epoch_count for x in perceptrons]})"
   ],
   "metadata": {
    "collapsed": false
   }
  }
 ],
 "metadata": {
  "kernelspec": {
   "display_name": "Python 3",
   "language": "python",
   "name": "python3"
  },
  "language_info": {
   "codemirror_mode": {
    "name": "ipython",
    "version": 2
   },
   "file_extension": ".py",
   "mimetype": "text/x-python",
   "name": "python",
   "nbconvert_exporter": "python",
   "pygments_lexer": "ipython2",
   "version": "2.7.6"
  }
 },
 "nbformat": 4,
 "nbformat_minor": 0
}
