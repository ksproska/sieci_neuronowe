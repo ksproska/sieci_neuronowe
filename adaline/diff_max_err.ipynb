{
 "cells": [
  {
   "cell_type": "markdown",
   "source": [
    "## Adaline"
   ],
   "metadata": {
    "collapsed": false
   }
  },
  {
   "cell_type": "code",
   "execution_count": 1,
   "outputs": [],
   "source": [
    "import pandas as pd\n",
    "from data import *\n",
    "plt.style.use('ggplot')"
   ],
   "metadata": {
    "collapsed": false
   }
  },
  {
   "cell_type": "code",
   "execution_count": 2,
   "outputs": [
    {
     "data": {
      "text/plain": "(array([[1.        , 1.        , 1.        , 1.        , 1.        ],\n        [0.04267674, 0.03773294, 0.99001752, 1.03113936, 0.03988887],\n        [0.03593794, 0.97284685, 0.04697423, 1.03751921, 0.04642588]]),\n array([[-1, -1, -1,  1, -1]]))"
     },
     "execution_count": 2,
     "metadata": {},
     "output_type": "execute_result"
    }
   ],
   "source": [
    "repetitions = 200\n",
    "estimate_func = lambda v: unipolar(0, v)\n",
    "x_all = reproduce_x_times(x_unipolar, repetitions)\n",
    "d_all = reproduce_x_times(d_bipolar, repetitions)\n",
    "x_all = x_all + get_random_except_first_row(x_all.shape)\n",
    "x_all[:, :5], d_all[:, :5]"
   ],
   "metadata": {
    "collapsed": false
   }
  },
  {
   "cell_type": "code",
   "execution_count": 3,
   "outputs": [
    {
     "data": {
      "text/plain": "((3, 600), (3, 200), (1, 600), (1, 200))"
     },
     "execution_count": 3,
     "metadata": {},
     "output_type": "execute_result"
    }
   ],
   "source": [
    "test_size = int(x_all.shape[1] * 0.25)\n",
    "train_size = int(x_all.shape[1] - test_size)\n",
    "x_train, x_test = x_all[:, :train_size], x_all[:, train_size:]\n",
    "d_train, d_test = d_all[:, :train_size], d_all[:, train_size:]\n",
    "x_train.shape, x_test.shape, d_train.shape, d_test.shape"
   ],
   "metadata": {
    "collapsed": false
   }
  },
  {
   "cell_type": "code",
   "execution_count": 4,
   "outputs": [],
   "source": [
    "x_range = np.arange(-2, 4)\n",
    "experiments_numb = 100"
   ],
   "metadata": {
    "collapsed": false
   }
  },
  {
   "cell_type": "code",
   "execution_count": 5,
   "outputs": [
    {
     "ename": "TypeError",
     "evalue": "__init__() takes 8 positional arguments but 9 were given",
     "output_type": "error",
     "traceback": [
      "\u001B[1;31m---------------------------------------------------------------------------\u001B[0m",
      "\u001B[1;31mTypeError\u001B[0m                                 Traceback (most recent call last)",
      "Cell \u001B[1;32mIn [5], line 3\u001B[0m\n\u001B[0;32m      1\u001B[0m perceptrons \u001B[38;5;241m=\u001B[39m []\n\u001B[0;32m      2\u001B[0m \u001B[38;5;28;01mfor\u001B[39;00m allowed_err \u001B[38;5;129;01min\u001B[39;00m \u001B[38;5;28mlist\u001B[39m(np\u001B[38;5;241m.\u001B[39mlinspace(\u001B[38;5;241m0.3\u001B[39m, \u001B[38;5;241m1\u001B[39m, num\u001B[38;5;241m=\u001B[39m\u001B[38;5;241m300\u001B[39m)):\n\u001B[1;32m----> 3\u001B[0m     p \u001B[38;5;241m=\u001B[39m \u001B[43mAdaline\u001B[49m\u001B[43m(\u001B[49m\u001B[43mx_train\u001B[49m\u001B[43m,\u001B[49m\u001B[43m \u001B[49m\u001B[43md_train\u001B[49m\u001B[43m,\u001B[49m\u001B[43m \u001B[49m\u001B[43mx_test\u001B[49m\u001B[43m,\u001B[49m\u001B[43m \u001B[49m\u001B[43md_test\u001B[49m\u001B[43m,\u001B[49m\u001B[43m \u001B[49m\u001B[43mestimate_func\u001B[49m\u001B[43m,\u001B[49m\u001B[43m \u001B[49m\u001B[38;5;241;43m0.0001\u001B[39;49m\u001B[43m,\u001B[49m\u001B[43m \u001B[49m\u001B[43mallowed_err\u001B[49m\u001B[43m,\u001B[49m\u001B[43m \u001B[49m\u001B[43m(\u001B[49m\u001B[38;5;241;43m-\u001B[39;49m\u001B[38;5;241;43m0.1\u001B[39;49m\u001B[43m,\u001B[49m\u001B[43m \u001B[49m\u001B[38;5;241;43m0.1\u001B[39;49m\u001B[43m)\u001B[49m\u001B[43m)\u001B[49m\n\u001B[0;32m      4\u001B[0m     \u001B[38;5;28;01mfor\u001B[39;00m i \u001B[38;5;129;01min\u001B[39;00m \u001B[38;5;28mrange\u001B[39m(experiments_numb):\n\u001B[0;32m      5\u001B[0m         p\u001B[38;5;241m.\u001B[39mcount()\n",
      "\u001B[1;31mTypeError\u001B[0m: __init__() takes 8 positional arguments but 9 were given"
     ]
    }
   ],
   "source": [
    "perceptrons = []\n",
    "for allowed_err in list(np.linspace(0.3, 1, num=300)):\n",
    "    p = Adaline(x_train, d_train, x_test, d_test, estimate_func, 0.0001, allowed_err, (-0.1, 0.1))\n",
    "    for i in range(experiments_numb):\n",
    "        p.count()\n",
    "    perceptrons.append(p)\n",
    "len(perceptrons)"
   ],
   "metadata": {
    "collapsed": false
   }
  },
  {
   "cell_type": "code",
   "execution_count": null,
   "outputs": [],
   "source": [
    "plt.gcf().set_size_inches(10, 4)\n",
    "plt.plot([x.allowed_error for x in perceptrons], [x.average_epoch_count for x in perceptrons])\n",
    "plt.xlabel(\"max error\")\n",
    "plt.ylabel(\"epoch count\")\n",
    "pd.DataFrame({\"max error\":[x.allowed_error for x in perceptrons], \"epoch count\":[x.average_epoch_count for x in perceptrons]});"
   ],
   "metadata": {
    "collapsed": false
   }
  },
  {
   "cell_type": "code",
   "execution_count": null,
   "outputs": [],
   "source": [
    "plt.gcf().set_size_inches(10, 4)\n",
    "plt.plot([x.allowed_error for x in perceptrons], [x.average_matching_percent for x in perceptrons])\n",
    "plt.xlabel(\"max error\")\n",
    "plt.ylabel(\"matching percent\");"
   ],
   "metadata": {
    "collapsed": false
   }
  },
  {
   "cell_type": "code",
   "execution_count": null,
   "outputs": [],
   "source": [
    "part_size = int(len(perceptrons) * 0.9)\n",
    "plt.plot([x.allowed_error for x in perceptrons][part_size:], [x.average_matching_percent for x in perceptrons][part_size:])\n",
    "plt.xlabel(\"max error\")\n",
    "plt.ylabel(\"matching percent\");"
   ],
   "metadata": {
    "collapsed": false
   }
  }
 ],
 "metadata": {
  "kernelspec": {
   "display_name": "Python 3",
   "language": "python",
   "name": "python3"
  },
  "language_info": {
   "codemirror_mode": {
    "name": "ipython",
    "version": 2
   },
   "file_extension": ".py",
   "mimetype": "text/x-python",
   "name": "python",
   "nbconvert_exporter": "python",
   "pygments_lexer": "ipython2",
   "version": "2.7.6"
  }
 },
 "nbformat": 4,
 "nbformat_minor": 0
}
